{
 "cells": [
  {
   "cell_type": "code",
   "execution_count": 7,
   "id": "ff3a00e1",
   "metadata": {},
   "outputs": [],
   "source": [
    "import numpy as np"
   ]
  },
  {
   "cell_type": "code",
   "execution_count": 8,
   "metadata": {},
   "outputs": [
    {
     "name": "stdout",
     "output_type": "stream",
     "text": [
      "[1.         1.41421356 1.73205081 2.         2.23606798 2.44948974]\n"
     ]
    }
   ],
   "source": [
    "#square root of each element\n",
    "a=np.array([1,2,3,4,5,6])\n",
    "print(np.sqrt(a))"
   ]
  },
  {
   "cell_type": "code",
   "execution_count": 9,
   "metadata": {},
   "outputs": [
    {
     "name": "stdout",
     "output_type": "stream",
     "text": [
      "[5 4 3 2 1 0 1 2 3 4]\n"
     ]
    }
   ],
   "source": [
    "#Absolute value of each element\n",
    "a=np.arange(-5,5)\n",
    "print(np.absolute(a))"
   ]
  },
  {
   "cell_type": "code",
   "execution_count": 10,
   "id": "b5d93625",
   "metadata": {},
   "outputs": [
    {
     "data": {
      "text/plain": [
       "array([6.73794700e-03, 1.83156389e-02, 4.97870684e-02, 1.35335283e-01,\n",
       "       3.67879441e-01, 1.00000000e+00, 2.71828183e+00, 7.38905610e+00,\n",
       "       2.00855369e+01, 5.45981500e+01])"
      ]
     },
     "execution_count": 10,
     "metadata": {},
     "output_type": "execute_result"
    }
   ],
   "source": [
    "#For the exponential of each element\n",
    "np.exp(a)"
   ]
  },
  {
   "cell_type": "code",
   "execution_count": 13,
   "id": "6220081c",
   "metadata": {},
   "outputs": [
    {
     "name": "stdout",
     "output_type": "stream",
     "text": [
      "1\n",
      "11\n"
     ]
    }
   ],
   "source": [
    "#for the minimum and maximum of an array\n",
    "b=np.arange(1,12)\n",
    "print(np.min(b))\n",
    "print(np.max(b))"
   ]
  },
  {
   "cell_type": "code",
   "execution_count": 15,
   "id": "26fffe32",
   "metadata": {},
   "outputs": [
    {
     "data": {
      "text/plain": [
       "array([-1, -1, -1, -1, -1,  0,  1,  1,  1,  1])"
      ]
     },
     "execution_count": 15,
     "metadata": {},
     "output_type": "execute_result"
    }
   ],
   "source": [
    "#Sign of each element\n",
    "np.sign(a)"
   ]
  },
  {
   "cell_type": "code",
   "execution_count": 23,
   "id": "0fd6fea4",
   "metadata": {},
   "outputs": [
    {
     "name": "stdout",
     "output_type": "stream",
     "text": [
      "6.0\n",
      "3.1622776601683795\n"
     ]
    }
   ],
   "source": [
    "#Mean of all elements\n",
    "print(np.mean(b))\n",
    "#Standard deviation of all elements\n",
    "print(np.std(b))\n"
   ]
  },
  {
   "cell_type": "code",
   "execution_count": null,
   "id": "5f18fede",
   "metadata": {},
   "outputs": [],
   "source": []
  }
 ],
 "metadata": {
  "kernelspec": {
   "display_name": "base",
   "language": "python",
   "name": "python3"
  },
  "language_info": {
   "codemirror_mode": {
    "name": "ipython",
    "version": 3
   },
   "file_extension": ".py",
   "mimetype": "text/x-python",
   "name": "python",
   "nbconvert_exporter": "python",
   "pygments_lexer": "ipython3",
   "version": "3.12.4"
  }
 },
 "nbformat": 4,
 "nbformat_minor": 5
}
