{
 "cells": [
  {
   "cell_type": "code",
   "execution_count": 9,
   "id": "ae0f553f",
   "metadata": {},
   "outputs": [],
   "source": [
    "# we are importing numpy lib as np\n",
    "import numpy as np"
   ]
  },
  {
   "cell_type": "code",
   "execution_count": 10,
   "id": "9997e9a4",
   "metadata": {},
   "outputs": [],
   "source": [
    "# let's create a list with 10 elements\n",
    "arr=[3,5,3,5,3,5,3,5,3,5]"
   ]
  },
  {
   "cell_type": "code",
   "execution_count": 12,
   "id": "1fb4b7d0",
   "metadata": {},
   "outputs": [
    {
     "name": "stdout",
     "output_type": "stream",
     "text": [
      "[3 5 3 5 3 5 3 5 3 5]\n"
     ]
    }
   ],
   "source": [
    "# convert the list to a numpy array using np.array\n",
    "np_arr=np.array(arr)\n",
    "# print the numpy array\n",
    "print(np_arr)"
   ]
  },
  {
   "cell_type": "code",
   "execution_count": 13,
   "id": "e38b66c1",
   "metadata": {},
   "outputs": [
    {
     "name": "stdout",
     "output_type": "stream",
     "text": [
      "<class 'numpy.ndarray'>\n",
      "(10,)\n",
      "10\n",
      "int32\n",
      "1\n"
     ]
    }
   ],
   "source": [
    "# check the type of the numpy array\n",
    "print(type(np_arr))\n",
    "# check the shape of the numpy array\n",
    "print(np_arr.shape)\n",
    "# check the size of the numpy array\n",
    "print(np_arr.size)\n",
    "# check the datatype of the numpy array\n",
    "print(np_arr.dtype)\n",
    "# check the number of dimensions of the numpy array\n",
    "print(np_arr.ndim)"
   ]
  },
  {
   "cell_type": "code",
   "execution_count": null,
   "id": "c2119dee",
   "metadata": {},
   "outputs": [
    {
     "name": "stdout",
     "output_type": "stream",
     "text": [
      "[[1 2 3]\n",
      " [4 5 6]\n",
      " [7 8 9]]\n",
      "(3, 3)\n"
     ]
    }
   ],
   "source": [
    "#let's create a 2D numpy array using np.array\n",
    "arr2=[[1,2,3],[4,5,6],[7,8,9]]\n",
    "# convert the list to a numpy array using np.array\n",
    "np_arr2=np.array(arr2)\n",
    "# print the numpy array\n",
    "print(np_arr2)\n",
    "# check the matrix of the numpy array\n",
    "print(np_arr2.shape)"
   ]
  },
  {
   "cell_type": "code",
   "execution_count": 17,
   "id": "8eeda4dd",
   "metadata": {},
   "outputs": [
    {
     "name": "stdout",
     "output_type": "stream",
     "text": [
      "[0 1 2 3 4 5 6 7 8 9]\n"
     ]
    }
   ],
   "source": [
    "# some features of numpy arrays\n",
    "# Arange function is used to create an array with a range of numbers\n",
    "arr=np.arange(10)\n",
    "print(arr)"
   ]
  },
  {
   "cell_type": "code",
   "execution_count": 24,
   "id": "78cc8057",
   "metadata": {},
   "outputs": [
    {
     "name": "stdout",
     "output_type": "stream",
     "text": [
      "[0. 0. 0.]\n",
      "[[0. 0. 0. 0. 0.]\n",
      " [0. 0. 0. 0. 0.]\n",
      " [0. 0. 0. 0. 0.]\n",
      " [0. 0. 0. 0. 0.]]\n"
     ]
    }
   ],
   "source": [
    "# create a matrix of 4 rows and 5 columns of zeros using np.zeros\n",
    "#1D array of zeros\n",
    "arr1=np.zeros(3)\n",
    "#Multidimensional array of zeros\n",
    "arr=np.zeros((4,5))\n",
    "print(arr1)\n",
    "print(arr)\n"
   ]
  },
  {
   "cell_type": "code",
   "execution_count": 26,
   "id": "94dcca14",
   "metadata": {},
   "outputs": [
    {
     "name": "stdout",
     "output_type": "stream",
     "text": [
      "[1.         1.36363636 1.72727273 2.09090909 2.45454545 2.81818182\n",
      " 3.18181818 3.54545455 3.90909091 4.27272727 4.63636364 5.        ]\n"
     ]
    }
   ],
   "source": [
    "#using linspace function to create an array with 12 elements between 1 and 5\n",
    "arr=np.linspace(1,5,12)\n",
    "print(arr)"
   ]
  },
  {
   "cell_type": "code",
   "execution_count": 28,
   "id": "983f9889",
   "metadata": {},
   "outputs": [
    {
     "data": {
      "text/plain": [
       "array([[1., 0., 0.],\n",
       "       [0., 1., 0.],\n",
       "       [0., 0., 1.]])"
      ]
     },
     "execution_count": 28,
     "metadata": {},
     "output_type": "execute_result"
    }
   ],
   "source": [
    "# using identity function to create a 3x3 identity matrix\n",
    "arr=np.identity(3)\n",
    "arr"
   ]
  },
  {
   "cell_type": "code",
   "execution_count": 35,
   "id": "f2a2a935",
   "metadata": {},
   "outputs": [
    {
     "name": "stdout",
     "output_type": "stream",
     "text": [
      "[ 1  2  3  4  5  6  7  8  9 10]\n",
      "[[ 1  2]\n",
      " [ 3  4]\n",
      " [ 5  6]\n",
      " [ 7  8]\n",
      " [ 9 10]]\n",
      "(5, 2)\n"
     ]
    }
   ],
   "source": [
    "#using reshape function to change the shape of the array\n",
    "arr=np.arange(1,11)\n",
    "print(arr)\n",
    "arr=arr.reshape(5,2)\n",
    "print(arr)\n",
    "print(arr.shape)"
   ]
  },
  {
   "cell_type": "code",
   "execution_count": null,
   "id": "e8ad317e",
   "metadata": {},
   "outputs": [],
   "source": []
  }
 ],
 "metadata": {
  "kernelspec": {
   "display_name": "base",
   "language": "python",
   "name": "python3"
  },
  "language_info": {
   "codemirror_mode": {
    "name": "ipython",
    "version": 3
   },
   "file_extension": ".py",
   "mimetype": "text/x-python",
   "name": "python",
   "nbconvert_exporter": "python",
   "pygments_lexer": "ipython3",
   "version": "3.12.4"
  }
 },
 "nbformat": 4,
 "nbformat_minor": 5
}
