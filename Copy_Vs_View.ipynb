{
 "cells": [
  {
   "cell_type": "code",
   "execution_count": 1,
   "id": "69ab9564",
   "metadata": {},
   "outputs": [],
   "source": [
    "import numpy as np"
   ]
  },
  {
   "cell_type": "code",
   "execution_count": 3,
   "id": "9401e09c",
   "metadata": {},
   "outputs": [
    {
     "name": "stdout",
     "output_type": "stream",
     "text": [
      "Oringinal a [0 1 2 3 4 5 6 7 8 9]\n",
      "Oringinal a1 [0 1 2 3 4 5 6 7 8 9]\n",
      "Changed a [21  1  2  3  4  5  6  7  8  9]\n",
      "Oringinal a1 [21  1  2  3  4  5  6  7  8  9]\n"
     ]
    }
   ],
   "source": [
    "#Create a view\n",
    "a = np.arange(10)\n",
    "a1=a.view()\n",
    "print(f'Oringinal a {a}')\n",
    "print(f'Oringinal a1 {a1}')\n",
    "\n",
    "a[0]=21\n",
    "# In this result we can see that the original array has been changed \n",
    "#and the view array a1 also has been changed.\n",
    "# Because the view array a1 is just a reference to the original array a.\n",
    "# So when we change the original array a, the view array a1 also changes.\n",
    "print(f'Changed a {a}')\n",
    "print(f'Oringinal a1 {a1}')"
   ]
  },
  {
   "cell_type": "code",
   "execution_count": 4,
   "id": "2e190f32",
   "metadata": {},
   "outputs": [
    {
     "name": "stdout",
     "output_type": "stream",
     "text": [
      "Oringinal a [0 1 2 3 4 5 6 7 8 9]\n",
      "Oringinal a1 [0 1 2 3 4 5 6 7 8 9]\n",
      "Changed a [21  1  2  3  4  5  6  7  8  9]\n",
      "Oringinal a1 [0 1 2 3 4 5 6 7 8 9]\n"
     ]
    }
   ],
   "source": [
    "#Create a copy\n",
    "a=np.arange(10)\n",
    "a1=a.copy()\n",
    "print(f'Oringinal a {a}')\n",
    "print(f'Oringinal a1 {a1}')\n",
    "a[0]=21\n",
    "# In this result we can see that the original array has been changed\n",
    "#and the copy array a1 has not been changed.\n",
    "print(f'Changed a {a}')\n",
    "print(f'Oringinal a1 {a1}')"
   ]
  },
  {
   "cell_type": "code",
   "execution_count": null,
   "id": "672962b8",
   "metadata": {},
   "outputs": [],
   "source": []
  }
 ],
 "metadata": {
  "kernelspec": {
   "display_name": "base",
   "language": "python",
   "name": "python3"
  },
  "language_info": {
   "codemirror_mode": {
    "name": "ipython",
    "version": 3
   },
   "file_extension": ".py",
   "mimetype": "text/x-python",
   "name": "python",
   "nbconvert_exporter": "python",
   "pygments_lexer": "ipython3",
   "version": "3.12.4"
  }
 },
 "nbformat": 4,
 "nbformat_minor": 5
}
