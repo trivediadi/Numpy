{
 "cells": [
  {
   "cell_type": "code",
   "execution_count": 27,
   "id": "2621848f",
   "metadata": {},
   "outputs": [],
   "source": [
    "import numpy as np"
   ]
  },
  {
   "cell_type": "code",
   "execution_count": 28,
   "id": "3bd656cf",
   "metadata": {},
   "outputs": [
    {
     "name": "stdout",
     "output_type": "stream",
     "text": [
      "1D array:  [1 2 3 4 5 6 7 8 9]\n"
     ]
    }
   ],
   "source": [
    "#create a 1D array\n",
    "arr=np.arange(1,10)\n",
    "print(\"1D array: \",arr)"
   ]
  },
  {
   "cell_type": "code",
   "execution_count": 29,
   "id": "ec82fe2b",
   "metadata": {},
   "outputs": [
    {
     "name": "stdout",
     "output_type": "stream",
     "text": [
      "[2 3 4 5]\n"
     ]
    }
   ],
   "source": [
    "#Slicing the array\n",
    "#return 2,3,4,5\n",
    "print(arr[1:5])\n"
   ]
  },
  {
   "cell_type": "code",
   "execution_count": 30,
   "id": "c8b88b56",
   "metadata": {},
   "outputs": [
    {
     "name": "stdout",
     "output_type": "stream",
     "text": [
      "[1 2 3 4 5 6 7 8 9]\n",
      "[1 2 3 4 5 6 7 8 9]\n"
     ]
    }
   ],
   "source": [
    "#Return from something till the end of the array\n",
    "print(arr[0:])\n",
    "# we can print from this type of slicing too\n",
    "print(arr[:len(arr)])"
   ]
  },
  {
   "cell_type": "code",
   "execution_count": 31,
   "id": "623dfe40",
   "metadata": {},
   "outputs": [
    {
     "name": "stdout",
     "output_type": "stream",
     "text": [
      "[7 8]\n"
     ]
    }
   ],
   "source": [
    "#Return 7,8 from negative slicing\n",
    "print(arr[-3:-1])"
   ]
  },
  {
   "cell_type": "code",
   "execution_count": 32,
   "id": "d1fdaa8f",
   "metadata": {},
   "outputs": [
    {
     "name": "stdout",
     "output_type": "stream",
     "text": [
      "[2 3 4 5]\n",
      "[2 6]\n"
     ]
    }
   ],
   "source": [
    "#printing array with steps\n",
    "print(arr[1:5])\n",
    "print(arr[1:10:4])"
   ]
  },
  {
   "cell_type": "code",
   "execution_count": 33,
   "id": "b121a57f",
   "metadata": {},
   "outputs": [
    {
     "name": "stdout",
     "output_type": "stream",
     "text": [
      "2D array:  [[ 1  2  3  4  5]\n",
      " [ 6  7  8  9 10]]\n"
     ]
    }
   ],
   "source": [
    "# 2-D array for Slicing\n",
    "arr=np.arange(1,11).reshape(2,5)\n",
    "print(\"2D array: \",arr)"
   ]
  },
  {
   "cell_type": "code",
   "execution_count": 34,
   "id": "743353ea",
   "metadata": {},
   "outputs": [
    {
     "name": "stdout",
     "output_type": "stream",
     "text": [
      "1   6\n"
     ]
    }
   ],
   "source": [
    "# pulling out single item\n",
    "print(arr[0,0],\" \",arr[1,0])"
   ]
  },
  {
   "cell_type": "code",
   "execution_count": null,
   "id": "7c779fad",
   "metadata": {},
   "outputs": [
    {
     "name": "stdout",
     "output_type": "stream",
     "text": [
      "[[1 2 3 4]]\n"
     ]
    }
   ],
   "source": [
    "#sliceing item from 2D array\n",
    "#0:1,0:4 means 0th row and 0 to 4th column\n",
    "print(arr[0:1,0:4])"
   ]
  },
  {
   "cell_type": "code",
   "execution_count": 43,
   "id": "84d1fa65",
   "metadata": {},
   "outputs": [
    {
     "name": "stdout",
     "output_type": "stream",
     "text": [
      "[[1 2 3]\n",
      " [6 7 8]]\n"
     ]
    }
   ],
   "source": [
    "#Slicing the array from both rows\n",
    "#this will not change the array we are slicing from it\n",
    "print(arr[0:2,0:3])"
   ]
  },
  {
   "cell_type": "code",
   "execution_count": null,
   "id": "993f9afb",
   "metadata": {},
   "outputs": [],
   "source": []
  }
 ],
 "metadata": {
  "kernelspec": {
   "display_name": "base",
   "language": "python",
   "name": "python3"
  },
  "language_info": {
   "codemirror_mode": {
    "name": "ipython",
    "version": 3
   },
   "file_extension": ".py",
   "mimetype": "text/x-python",
   "name": "python",
   "nbconvert_exporter": "python",
   "pygments_lexer": "ipython3",
   "version": "3.12.4"
  }
 },
 "nbformat": 4,
 "nbformat_minor": 5
}
